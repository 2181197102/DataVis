{
 "cells": [
  {
   "cell_type": "code",
   "execution_count": 27,
   "id": "initial_id",
   "metadata": {
    "collapsed": true,
    "ExecuteTime": {
     "end_time": "2024-04-09T06:11:40.370331Z",
     "start_time": "2024-04-09T06:11:40.367301Z"
    }
   },
   "outputs": [],
   "source": [
    "import pandas as pd"
   ]
  },
  {
   "cell_type": "code",
   "execution_count": 28,
   "id": "a5a82f651f7d728a",
   "metadata": {
    "ExecuteTime": {
     "end_time": "2024-04-09T06:11:43.640481Z",
     "start_time": "2024-04-09T06:11:40.501537Z"
    }
   },
   "outputs": [],
   "source": [
    "df_list = []\n",
    "for i in range(1, 7):\n",
    "    file_path = f'Dataset/links/Link_{i}.csv'\n",
    "    df = pd.read_csv(file_path)\n",
    "    df_list.append(df)"
   ]
  },
  {
   "cell_type": "code",
   "execution_count": 29,
   "id": "352f32008f3cd19c",
   "metadata": {
    "ExecuteTime": {
     "end_time": "2024-04-09T06:11:43.646570Z",
     "start_time": "2024-04-09T06:11:43.640957Z"
    }
   },
   "outputs": [
    {
     "name": "stdout",
     "output_type": "stream",
     "text": [
      "Link_1:(600000, 3)\n",
      "Link_2:(600000, 3)\n",
      "Link_3:(600000, 3)\n",
      "Link_4:(600000, 3)\n",
      "Link_5:(600000, 3)\n",
      "Link_6:(286986, 3)\n",
      "Total data:3286986\n"
     ]
    }
   ],
   "source": [
    "# 查看数据大小\n",
    "total = 0\n",
    "for i in range(1, 7):\n",
    "    total += df_list[i-1].shape[0]\n",
    "    print(f\"Link_{i}:\"+str(df_list[i-1].shape))\n",
    "print(\"Total data:\"+str(total))"
   ]
  },
  {
   "cell_type": "code",
   "execution_count": 30,
   "id": "5ac804556d9da2f0",
   "metadata": {
    "ExecuteTime": {
     "end_time": "2024-04-09T06:11:43.646721Z",
     "start_time": "2024-04-09T06:11:43.644951Z"
    }
   },
   "outputs": [
    {
     "name": "stdout",
     "output_type": "stream",
     "text": [
      "Link_1:\n",
      "relation    object\n",
      "source      object\n",
      "target      object\n",
      "dtype: object\n",
      "Link_2:\n",
      "relation    object\n",
      "source      object\n",
      "target      object\n",
      "dtype: object\n",
      "Link_3:\n",
      "relation    object\n",
      "source      object\n",
      "target      object\n",
      "dtype: object\n",
      "Link_4:\n",
      "relation    object\n",
      "source      object\n",
      "target      object\n",
      "dtype: object\n",
      "Link_5:\n",
      "relation    object\n",
      "source      object\n",
      "target      object\n",
      "dtype: object\n",
      "Link_6:\n",
      "relation    object\n",
      "source      object\n",
      "target      object\n",
      "dtype: object\n"
     ]
    }
   ],
   "source": [
    "# 查看数据类型\n",
    "for i in range(1, 7):\n",
    "    print(f\"Link_{i}:\"+\"\\n\"+str(df_list[i-1].dtypes))"
   ]
  },
  {
   "cell_type": "code",
   "execution_count": 31,
   "id": "dc4499c92209a28f",
   "metadata": {
    "ExecuteTime": {
     "end_time": "2024-04-09T06:11:43.838771Z",
     "start_time": "2024-04-09T06:11:43.683461Z"
    }
   },
   "outputs": [
    {
     "name": "stdout",
     "output_type": "stream",
     "text": [
      "Link_1:\n",
      "relation    0\n",
      "source      0\n",
      "target      0\n",
      "dtype: int64\n",
      "Link_2:\n",
      "relation    0\n",
      "source      0\n",
      "target      0\n",
      "dtype: int64\n",
      "Link_3:\n",
      "relation    0\n",
      "source      0\n",
      "target      0\n",
      "dtype: int64\n",
      "Link_4:\n",
      "relation    0\n",
      "source      0\n",
      "target      0\n",
      "dtype: int64\n",
      "Link_5:\n",
      "relation    0\n",
      "source      0\n",
      "target      0\n",
      "dtype: int64\n",
      "Link_6:\n",
      "relation    0\n",
      "source      0\n",
      "target      0\n",
      "dtype: int64\n"
     ]
    }
   ],
   "source": [
    "# 查看数据缺失值\n",
    "for i in range(1, 7):\n",
    "    print(f\"Link_{i}:\"+\"\\n\"+str(df_list[i-1].isnull().sum()))"
   ]
  },
  {
   "cell_type": "code",
   "execution_count": 32,
   "id": "d86a9f02464035d6",
   "metadata": {
    "ExecuteTime": {
     "end_time": "2024-04-09T06:11:44.924084Z",
     "start_time": "2024-04-09T06:11:43.838540Z"
    }
   },
   "outputs": [
    {
     "name": "stdout",
     "output_type": "stream",
     "text": [
      "Link_1:\n",
      "1496\n",
      "Link_2:\n",
      "0\n",
      "Link_3:\n",
      "0\n",
      "Link_4:\n",
      "0\n",
      "Link_5:\n",
      "0\n",
      "Link_6:\n",
      "0\n"
     ]
    }
   ],
   "source": [
    "# 查看数据重复值\n",
    "for i in range(1, 7):\n",
    "    print(f\"Link_{i}:\"+\"\\n\"+str(df_list[i-1].duplicated().sum()))"
   ]
  },
  {
   "cell_type": "code",
   "execution_count": 33,
   "id": "c9af2d2c6668569a",
   "metadata": {
    "ExecuteTime": {
     "end_time": "2024-04-09T06:11:46.119880Z",
     "start_time": "2024-04-09T06:11:44.925909Z"
    }
   },
   "outputs": [],
   "source": [
    "# 删除重复值\n",
    "for i in range(1, 7):\n",
    "    df = df_list[i-1]\n",
    "    df.drop_duplicates(inplace=True)"
   ]
  },
  {
   "cell_type": "code",
   "execution_count": 34,
   "id": "f91d0487802350b8",
   "metadata": {
    "ExecuteTime": {
     "end_time": "2024-04-09T06:11:46.123181Z",
     "start_time": "2024-04-09T06:11:46.120314Z"
    }
   },
   "outputs": [
    {
     "name": "stdout",
     "output_type": "stream",
     "text": [
      "Link_1:(598504, 3)\n",
      "Link_2:(600000, 3)\n",
      "Link_3:(600000, 3)\n",
      "Link_4:(600000, 3)\n",
      "Link_5:(600000, 3)\n",
      "Link_6:(286986, 3)\n",
      "Total data:3285490\n"
     ]
    }
   ],
   "source": [
    "# 查看删除后的数据大小\n",
    "total = 0\n",
    "for i in range(1, 7):\n",
    "    total += df_list[i-1].shape[0]\n",
    "    print(f\"Link_{i}:\"+str(df_list[i-1].shape))\n",
    "print(\"Total data:\"+str(total))"
   ]
  },
  {
   "cell_type": "code",
   "execution_count": 35,
   "id": "6c5019968c5eeeb1",
   "metadata": {
    "ExecuteTime": {
     "end_time": "2024-04-09T06:11:47.544127Z",
     "start_time": "2024-04-09T06:11:46.148219Z"
    }
   },
   "outputs": [
    {
     "name": "stdout",
     "output_type": "stream",
     "text": [
      "Link_1:\n",
      "       relation                                             source  \\\n",
      "count    598504                                             598504   \n",
      "unique       11                                             409431   \n",
      "top     r_dns_a  Domain_85db7f74bf1e231c6f3b89583f6240593a918c2...   \n",
      "freq     373749                                                880   \n",
      "\n",
      "                                                   target  \n",
      "count                                              598504  \n",
      "unique                                             109384  \n",
      "top     Cert_fe794a69eacd63b21245bf4eda826222fc6c5862b...  \n",
      "freq                                                 4641  \n",
      "Link_2:\n",
      "       relation                                             source  \\\n",
      "count    600000                                             600000   \n",
      "unique       10                                             478009   \n",
      "top     r_dns_a  Domain_3ca6ec6e7124cd1997531c0d97fc0bacaff1ae7...   \n",
      "freq     345425                                                283   \n",
      "\n",
      "                                                   target  \n",
      "count                                              600000  \n",
      "unique                                             125246  \n",
      "top     ASN_bfe47d08b0915207ce5f3b739e2bd60484069a0f05...  \n",
      "freq                                                 3487  \n",
      "Link_3:\n",
      "       relation                                             source  \\\n",
      "count    600000                                             600000   \n",
      "unique       10                                             434822   \n",
      "top     r_dns_a  Domain_559e0ea5b3a75a355a974c5578a2e6cdfb68250...   \n",
      "freq     272817                                               4340   \n",
      "\n",
      "                                                   target  \n",
      "count                                              600000  \n",
      "unique                                             183984  \n",
      "top     Cert_fe794a69eacd63b21245bf4eda826222fc6c5862b...  \n",
      "freq                                                15155  \n",
      "Link_4:\n",
      "       relation                                             source  \\\n",
      "count    600000                                             600000   \n",
      "unique       10                                             515801   \n",
      "top     r_dns_a  Domain_7d4f8ce4876d04ed9f58e89db5dfb2b80bc139c...   \n",
      "freq     497840                                                100   \n",
      "\n",
      "                                                   target  \n",
      "count                                              600000  \n",
      "unique                                              65736  \n",
      "top     ASN_bfe47d08b0915207ce5f3b739e2bd60484069a0f05...  \n",
      "freq                                                 4612  \n",
      "Link_5:\n",
      "       relation                                             source  \\\n",
      "count    600000                                             600000   \n",
      "unique       10                                             403992   \n",
      "top     r_dns_a  Domain_30a5a1532f23b69968262facec401849975f811...   \n",
      "freq     377815                                                101   \n",
      "\n",
      "                                                   target  \n",
      "count                                              600000  \n",
      "unique                                             187360  \n",
      "top     Whois_Phone_5db6e647ee1a1f1b2819508de28e88d6f8...  \n",
      "freq                                                 2987  \n",
      "Link_6:\n",
      "       relation                                             source  \\\n",
      "count    286986                                             286986   \n",
      "unique       10                                             213597   \n",
      "top     r_dns_a  Domain_661d2deb0323b132a5f1fd25e7c1281f1ee98c2...   \n",
      "freq     185430                                                100   \n",
      "\n",
      "                                                   target  \n",
      "count                                              286986  \n",
      "unique                                              74249  \n",
      "top     ASN_bfe47d08b0915207ce5f3b739e2bd60484069a0f05...  \n",
      "freq                                                 1258  \n"
     ]
    }
   ],
   "source": [
    "# 查看数据分布\n",
    "for i in range(1, 7):\n",
    "    print(f\"Link_{i}:\"+\"\\n\"+str(df_list[i-1].describe()))"
   ]
  }
 ],
 "metadata": {
  "kernelspec": {
   "display_name": "Python 3 (ipykernel)",
   "language": "python",
   "name": "python3"
  },
  "language_info": {
   "codemirror_mode": {
    "name": "ipython",
    "version": 3
   },
   "file_extension": ".py",
   "mimetype": "text/x-python",
   "name": "python",
   "nbconvert_exporter": "python",
   "pygments_lexer": "ipython3",
   "version": "3.11.5"
  }
 },
 "nbformat": 4,
 "nbformat_minor": 5
}
